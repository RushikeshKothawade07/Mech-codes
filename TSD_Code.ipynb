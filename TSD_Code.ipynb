{
  "cells": [
    {
      "cell_type": "code",
      "execution_count": 71,
      "metadata": {
        "id": "nyVQ5b9ziSkn"
      },
      "outputs": [],
      "source": []
    },
    {
      "cell_type": "code",
      "execution_count": 72,
      "metadata": {
        "id": "qVOsILyUiSfz"
      },
      "outputs": [],
      "source": [
        "import pandas as pd\n",
        "import numpy as np\n"
      ]
    },
    {
      "cell_type": "code",
      "execution_count": 73,
      "metadata": {
        "id": "nx9bplreiYVK"
      },
      "outputs": [],
      "source": [
        "df = pd.read_csv(\"/content/Taper Sheet - Sheet1.csv\")"
      ]
    },
    {
      "cell_type": "code",
      "execution_count": 74,
      "metadata": {
        "colab": {
          "base_uri": "https://localhost:8080/",
          "height": 206
        },
        "id": "aM74Zx25ium3",
        "outputId": "64f94fe8-c8dd-4de6-fa40-803d0f213db9"
      },
      "outputs": [
        {
          "output_type": "execute_result",
          "data": {
            "text/plain": [
              "    d    D      B       XX Designation     e    Y       C\n",
              "0  60   95  23.00   76 500     32012 X  0.43  1.4   76500\n",
              "1  60   95  27.00   85 800       33012  0.33  1.8   85800\n",
              "2  60  100  30.00  110 000       33112  0.40  1.5  110000\n",
              "3  60  110  23.75   91 300       30212  0.40  1.5   91300\n",
              "4  60  110  29.75  119 000       32212  0.40  1.5  119000"
            ],
            "text/html": [
              "\n",
              "  <div id=\"df-603ce567-0fd9-46a0-860b-300d380995bd\">\n",
              "    <div class=\"colab-df-container\">\n",
              "      <div>\n",
              "<style scoped>\n",
              "    .dataframe tbody tr th:only-of-type {\n",
              "        vertical-align: middle;\n",
              "    }\n",
              "\n",
              "    .dataframe tbody tr th {\n",
              "        vertical-align: top;\n",
              "    }\n",
              "\n",
              "    .dataframe thead th {\n",
              "        text-align: right;\n",
              "    }\n",
              "</style>\n",
              "<table border=\"1\" class=\"dataframe\">\n",
              "  <thead>\n",
              "    <tr style=\"text-align: right;\">\n",
              "      <th></th>\n",
              "      <th>d</th>\n",
              "      <th>D</th>\n",
              "      <th>B</th>\n",
              "      <th>XX</th>\n",
              "      <th>Designation</th>\n",
              "      <th>e</th>\n",
              "      <th>Y</th>\n",
              "      <th>C</th>\n",
              "    </tr>\n",
              "  </thead>\n",
              "  <tbody>\n",
              "    <tr>\n",
              "      <th>0</th>\n",
              "      <td>60</td>\n",
              "      <td>95</td>\n",
              "      <td>23.00</td>\n",
              "      <td>76 500</td>\n",
              "      <td>32012 X</td>\n",
              "      <td>0.43</td>\n",
              "      <td>1.4</td>\n",
              "      <td>76500</td>\n",
              "    </tr>\n",
              "    <tr>\n",
              "      <th>1</th>\n",
              "      <td>60</td>\n",
              "      <td>95</td>\n",
              "      <td>27.00</td>\n",
              "      <td>85 800</td>\n",
              "      <td>33012</td>\n",
              "      <td>0.33</td>\n",
              "      <td>1.8</td>\n",
              "      <td>85800</td>\n",
              "    </tr>\n",
              "    <tr>\n",
              "      <th>2</th>\n",
              "      <td>60</td>\n",
              "      <td>100</td>\n",
              "      <td>30.00</td>\n",
              "      <td>110 000</td>\n",
              "      <td>33112</td>\n",
              "      <td>0.40</td>\n",
              "      <td>1.5</td>\n",
              "      <td>110000</td>\n",
              "    </tr>\n",
              "    <tr>\n",
              "      <th>3</th>\n",
              "      <td>60</td>\n",
              "      <td>110</td>\n",
              "      <td>23.75</td>\n",
              "      <td>91 300</td>\n",
              "      <td>30212</td>\n",
              "      <td>0.40</td>\n",
              "      <td>1.5</td>\n",
              "      <td>91300</td>\n",
              "    </tr>\n",
              "    <tr>\n",
              "      <th>4</th>\n",
              "      <td>60</td>\n",
              "      <td>110</td>\n",
              "      <td>29.75</td>\n",
              "      <td>119 000</td>\n",
              "      <td>32212</td>\n",
              "      <td>0.40</td>\n",
              "      <td>1.5</td>\n",
              "      <td>119000</td>\n",
              "    </tr>\n",
              "  </tbody>\n",
              "</table>\n",
              "</div>\n",
              "      <button class=\"colab-df-convert\" onclick=\"convertToInteractive('df-603ce567-0fd9-46a0-860b-300d380995bd')\"\n",
              "              title=\"Convert this dataframe to an interactive table.\"\n",
              "              style=\"display:none;\">\n",
              "        \n",
              "  <svg xmlns=\"http://www.w3.org/2000/svg\" height=\"24px\"viewBox=\"0 0 24 24\"\n",
              "       width=\"24px\">\n",
              "    <path d=\"M0 0h24v24H0V0z\" fill=\"none\"/>\n",
              "    <path d=\"M18.56 5.44l.94 2.06.94-2.06 2.06-.94-2.06-.94-.94-2.06-.94 2.06-2.06.94zm-11 1L8.5 8.5l.94-2.06 2.06-.94-2.06-.94L8.5 2.5l-.94 2.06-2.06.94zm10 10l.94 2.06.94-2.06 2.06-.94-2.06-.94-.94-2.06-.94 2.06-2.06.94z\"/><path d=\"M17.41 7.96l-1.37-1.37c-.4-.4-.92-.59-1.43-.59-.52 0-1.04.2-1.43.59L10.3 9.45l-7.72 7.72c-.78.78-.78 2.05 0 2.83L4 21.41c.39.39.9.59 1.41.59.51 0 1.02-.2 1.41-.59l7.78-7.78 2.81-2.81c.8-.78.8-2.07 0-2.86zM5.41 20L4 18.59l7.72-7.72 1.47 1.35L5.41 20z\"/>\n",
              "  </svg>\n",
              "      </button>\n",
              "      \n",
              "  <style>\n",
              "    .colab-df-container {\n",
              "      display:flex;\n",
              "      flex-wrap:wrap;\n",
              "      gap: 12px;\n",
              "    }\n",
              "\n",
              "    .colab-df-convert {\n",
              "      background-color: #E8F0FE;\n",
              "      border: none;\n",
              "      border-radius: 50%;\n",
              "      cursor: pointer;\n",
              "      display: none;\n",
              "      fill: #1967D2;\n",
              "      height: 32px;\n",
              "      padding: 0 0 0 0;\n",
              "      width: 32px;\n",
              "    }\n",
              "\n",
              "    .colab-df-convert:hover {\n",
              "      background-color: #E2EBFA;\n",
              "      box-shadow: 0px 1px 2px rgba(60, 64, 67, 0.3), 0px 1px 3px 1px rgba(60, 64, 67, 0.15);\n",
              "      fill: #174EA6;\n",
              "    }\n",
              "\n",
              "    [theme=dark] .colab-df-convert {\n",
              "      background-color: #3B4455;\n",
              "      fill: #D2E3FC;\n",
              "    }\n",
              "\n",
              "    [theme=dark] .colab-df-convert:hover {\n",
              "      background-color: #434B5C;\n",
              "      box-shadow: 0px 1px 3px 1px rgba(0, 0, 0, 0.15);\n",
              "      filter: drop-shadow(0px 1px 2px rgba(0, 0, 0, 0.3));\n",
              "      fill: #FFFFFF;\n",
              "    }\n",
              "  </style>\n",
              "\n",
              "      <script>\n",
              "        const buttonEl =\n",
              "          document.querySelector('#df-603ce567-0fd9-46a0-860b-300d380995bd button.colab-df-convert');\n",
              "        buttonEl.style.display =\n",
              "          google.colab.kernel.accessAllowed ? 'block' : 'none';\n",
              "\n",
              "        async function convertToInteractive(key) {\n",
              "          const element = document.querySelector('#df-603ce567-0fd9-46a0-860b-300d380995bd');\n",
              "          const dataTable =\n",
              "            await google.colab.kernel.invokeFunction('convertToInteractive',\n",
              "                                                     [key], {});\n",
              "          if (!dataTable) return;\n",
              "\n",
              "          const docLinkHtml = 'Like what you see? Visit the ' +\n",
              "            '<a target=\"_blank\" href=https://colab.research.google.com/notebooks/data_table.ipynb>data table notebook</a>'\n",
              "            + ' to learn more about interactive tables.';\n",
              "          element.innerHTML = '';\n",
              "          dataTable['output_type'] = 'display_data';\n",
              "          await google.colab.output.renderOutput(dataTable, element);\n",
              "          const docLink = document.createElement('div');\n",
              "          docLink.innerHTML = docLinkHtml;\n",
              "          element.appendChild(docLink);\n",
              "        }\n",
              "      </script>\n",
              "    </div>\n",
              "  </div>\n",
              "  "
            ]
          },
          "metadata": {},
          "execution_count": 74
        }
      ],
      "source": [
        "df.head()"
      ]
    },
    {
      "cell_type": "code",
      "execution_count": 75,
      "metadata": {
        "id": "UHATYUwQjZjB"
      },
      "outputs": [],
      "source": [
        "def help(df, X):\n",
        "    # Find the first row where C > X\n",
        "    filtered_df = df[df['C'] > X]\n",
        "    if not filtered_df.empty:\n",
        "        # Get the values of C and Designation for the first row\n",
        "        row = filtered_df.iloc[0]\n",
        "        return row['C'], row['Designation']\n"
      ]
    },
    {
      "cell_type": "code",
      "execution_count": 76,
      "metadata": {
        "id": "hrba8dzYVpj_"
      },
      "outputs": [],
      "source": [
        "def solver():\n",
        "  print(\"Selection Of Taper Roller Bearing\")\n",
        "  fr = int(input(\"Enter radial thrust :\"))\n",
        "  fa = int(input(\"Enter axial thrust :\"))\n",
        "  l = int(input(\"Enter total length of shaft :\"))\n",
        "  x = int(input(\"Enter radial thrust distance from pt A:\"))\n",
        "  Y = float(input(\"Assume Average value of Y from chart : \"))\n",
        "  n = int(input(\"Enter Number of rev (rpm) : \"))\n",
        "  L10h = int(input(\"Enter expected life of bearing (L10h) : \"))\n",
        "  \n",
        "  \n",
        "  fra  = (fr * (l-x))/l\n",
        "  frb  = (fr * (x))/l\n",
        "  if fra < frb and fa > 0:\n",
        "    FaB = (0.5 * frb) / Y\n",
        "    FaA = FaB + fa\n",
        "    ratio = FaA/fra\n",
        "    print(\"FaA / fra = \",ratio)\n",
        "    e = float(input(\"Enter e from table : \"))\n",
        "    if ratio > e:\n",
        "      P1 = 0.4 * fa + Y * FaA\n",
        "    L10 = (60*n*L10h)/pow(10,6)\n",
        "    C0 = P1 * pow((L10),0.3)\n",
        "    print(\"Dynamic Load Carrying capacity bearing A is\",C0)\n",
        "    \n",
        "    E,D = help(df,C0)\n",
        "    print(f'The Dynamic Load Carrying capacity of bearing from the chart is {E}')\n",
        "    print(f'It is observed that bearing No. {D} may be suitable ')\n",
        "    #Final Check For Selection\n",
        "    #At A\n",
        "    Y1 = float(input(\"Value of Y from table : \"))\n",
        "\n",
        "    FaB = (0.5 * frb) / Y1\n",
        "    FaA = FaB + fa\n",
        "    ratio = FaA/fra\n",
        "    P2 = 0.4 * fa + Y1 * FaA\n",
        "    C1 = P2 * pow((L10),0.3)\n",
        "    print(\"********************************************************************************************************\")\n",
        "    print(\"Check For Bearing A\")\n",
        "    print(\"Dynamic load carrying capacity of bearing A \",C1)\n",
        "    if C0<E and C1 < E:\n",
        "      print(f'Bearing no. {D} is selected at A')\n",
        "    else:\n",
        "      print(\"Bearing not suitable!\")\n",
        "    print(\"*********************************************************************************************************\")\n",
        "    # At B\n",
        "    print(\"Check For Bearing B\")\n",
        "\n",
        "\n",
        "    FaB = (0.5 * frb) / Y\n",
        "    FaA = FaB + fr\n",
        "    ratio = FaA/fra\n",
        "    P3 = frb \n",
        "    C2 = P3 * pow((L10),0.3)\n",
        "    print(\"Dynamic load carrying capacity of Bearing B\",C2)\n",
        "\n",
        "    if C0<E and C2 < E:\n",
        "      print(f'Bearing no. {D} is selected at A as well as at B')\n",
        "    else:\n",
        "      print(\"Bearing not suitable!\")"
      ]
    },
    {
      "cell_type": "code",
      "execution_count": 77,
      "metadata": {
        "colab": {
          "base_uri": "https://localhost:8080/"
        },
        "id": "qxHy0SutVyn2",
        "outputId": "8020ce22-9991-4417-dcc3-107619126d61"
      },
      "outputs": [
        {
          "output_type": "stream",
          "name": "stdout",
          "text": [
            "Selection Of Taper Roller Bearing\n",
            "Enter radial thrust :30000\n",
            "Enter axial thrust :10000\n",
            "Enter total length of shaft :300\n",
            "Enter radial thrust distance from pt A:200\n",
            "Assume Average value of Y from chart : 1.4\n",
            "Enter Number of rev (rpm) : 300\n",
            "Enter expected life of bearing (L10h) : 4000\n",
            "FaA / fra =  1.7142857142857144\n",
            "Enter e from table : 0.4\n",
            "Dynamic Load Carrying capacity bearing A is 101008.46708780382\n",
            "The Dynamic Load Carrying capacity of bearing from the chart is 110000\n",
            "It is observed that bearing No. 33112 may be suitable \n",
            "Value of Y from table : 1.5\n",
            "********************************************************************************************************\n",
            "Check For Bearing A\n",
            "Dynamic load carrying capacity of bearing A  104615.91234093967\n",
            "Bearing no. 33112 is selected at A\n",
            "*********************************************************************************************************\n",
            "Check For Bearing B\n",
            "Dynamic load carrying capacity of Bearing B 72148.90506271702\n",
            "Bearing no. 33112 is selected at A as well as at B\n"
          ]
        }
      ],
      "source": [
        "\n",
        "solver()"
      ]
    },
    {
      "cell_type": "code",
      "execution_count": 78,
      "metadata": {
        "id": "bJdEPTGlXnyP",
        "colab": {
          "base_uri": "https://localhost:8080/"
        },
        "outputId": "c6704b1a-7811-4da3-87c5-57af4e473a9d"
      },
      "outputs": [
        {
          "output_type": "execute_result",
          "data": {
            "text/plain": [
              "3"
            ]
          },
          "metadata": {},
          "execution_count": 78
        }
      ],
      "source": [
        "33\n",
        "3\n"
      ]
    }
  ],
  "metadata": {
    "colab": {
      "provenance": []
    },
    "kernelspec": {
      "display_name": "Python 3",
      "name": "python3"
    },
    "language_info": {
      "name": "python"
    }
  },
  "nbformat": 4,
  "nbformat_minor": 0
}